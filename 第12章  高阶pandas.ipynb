{
 "cells": [
  {
   "cell_type": "markdown",
   "id": "e40eee67",
   "metadata": {},
   "source": [
    "用于助力用户的深度特征"
   ]
  },
  {
   "cell_type": "markdown",
   "id": "ba3d46ac",
   "metadata": {},
   "source": [
    "##  分类数据"
   ]
  },
  {
   "cell_type": "markdown",
   "id": "b4d4a818",
   "metadata": {},
   "source": [
    "本节介绍pandas的Categorical类型，还会介绍一些在统计和机器学习应用中使用分类数据的工具。"
   ]
  },
  {
   "cell_type": "markdown",
   "id": "74ba5606",
   "metadata": {},
   "source": [
    "__背景和目标__"
   ]
  },
  {
   "cell_type": "markdown",
   "id": "d03b8433",
   "metadata": {},
   "source": [
    "维度表"
   ]
  },
  {
   "cell_type": "markdown",
   "id": "af44f54e",
   "metadata": {},
   "source": [
    "__pandas中的Categorical类型__"
   ]
  },
  {
   "cell_type": "code",
   "execution_count": null,
   "id": "2aeba2ad",
   "metadata": {},
   "outputs": [],
   "source": [
    "fruit_cat = df['fruit'].astype('category')    #将字符串对象显式转换为categorical对象"
   ]
  },
  {
   "cell_type": "code",
   "execution_count": null,
   "id": "a11d1594",
   "metadata": {},
   "outputs": [],
   "source": [
    "my_cats_2 = pd.Categorical.from_codes(codes, categories, ordered=True)    #给categories对象排序"
   ]
  },
  {
   "cell_type": "markdown",
   "id": "4f1b4138",
   "metadata": {},
   "source": [
    "__使用Categorical对象进行计算__"
   ]
  },
  {
   "cell_type": "code",
   "execution_count": null,
   "id": "b3deb0b9",
   "metadata": {},
   "outputs": [],
   "source": [
    "bins = pd.qcut(draws, 4, labels=['Q1', 'Q2', 'Q3', 'Q4'])\n",
    "bins"
   ]
  },
  {
   "cell_type": "code",
   "execution_count": null,
   "id": "f13c37a4",
   "metadata": {},
   "outputs": [],
   "source": [
    "bins = pd.Series(bins, name='quartile')\n",
    "\n",
    "results = (pd.Series(draw).groupby(bins).agg(['count', 'min', 'max']).reset_index())"
   ]
  },
  {
   "cell_type": "markdown",
   "id": "6a32e324",
   "metadata": {},
   "source": [
    "__分类方法__"
   ]
  },
  {
   "cell_type": "code",
   "execution_count": null,
   "id": "dbcf281d",
   "metadata": {},
   "outputs": [],
   "source": [
    "cat_s = s.astype('category')"
   ]
  },
  {
   "cell_type": "code",
   "execution_count": null,
   "id": "ee613d49",
   "metadata": {},
   "outputs": [],
   "source": [
    "cat_s.cat.codes\n",
    "cat_s.cat.categories"
   ]
  },
  {
   "cell_type": "code",
   "execution_count": null,
   "id": "51f87dda",
   "metadata": {},
   "outputs": [],
   "source": [
    "cat_s.cat.set_categories([])    #改变类别"
   ]
  },
  {
   "cell_type": "markdown",
   "id": "1a6a103b",
   "metadata": {},
   "source": [
    "##  高阶GroupBy应用"
   ]
  },
  {
   "cell_type": "markdown",
   "id": "34b995f9",
   "metadata": {},
   "source": [
    "__分组转换和“展开”GroupBy__"
   ]
  },
  {
   "cell_type": "code",
   "execution_count": null,
   "id": "1c3543c7",
   "metadata": {},
   "outputs": [],
   "source": [
    "f = df.groupby('key').value\n",
    "\n",
    "f.transform(lambda x: x.mean())    #产生一个Series,它的尺寸和df['value']一样\n",
    "f.transform('mean')"
   ]
  },
  {
   "cell_type": "markdown",
   "id": "b9b1372c",
   "metadata": {},
   "source": [
    "__分组的时间重新采样__"
   ]
  },
  {
   "cell_type": "code",
   "execution_count": null,
   "id": "8e7a62e9",
   "metadata": {},
   "outputs": [],
   "source": [
    "time_key = pd.TimeGrouper('5min')\n",
    "\n",
    "resampled = (df2.set_index(time).groupby(['key', 'time_key']).sum())"
   ]
  },
  {
   "cell_type": "markdown",
   "id": "8b07658a",
   "metadata": {},
   "source": [
    "##  方法链技术"
   ]
  },
  {
   "cell_type": "code",
   "execution_count": null,
   "id": "f3cdf330",
   "metadata": {},
   "outputs": [],
   "source": [
    "df2 = df.assign(k=v)    #返回一个按指定修改的新的DataFrame，而不是在原对象上进行修改"
   ]
  },
  {
   "cell_type": "code",
   "execution_count": null,
   "id": "39679caf",
   "metadata": {},
   "outputs": [],
   "source": [
    "result = (load_data()\n",
    "        [lambda x: x.col2 < 0]\n",
    "        .assign(col1_demeaned=lambda x: x.col1 - x.col1.mean()\n",
    "        .groupby('key')\n",
    "        .col1_demeaned.std())"
   ]
  },
  {
   "cell_type": "markdown",
   "id": "883fa84c",
   "metadata": {},
   "source": [
    "__pipe方法__"
   ]
  },
  {
   "cell_type": "markdown",
   "id": "1bc0fb39",
   "metadata": {},
   "source": [
    "使用内建的pandas函数和用可调用参数进行方法链接的方式，可以完成很多工作。然而，有时需要使用自定义的函数或来自第三方库的函数，这就是pipe方法出现的原因。"
   ]
  },
  {
   "cell_type": "code",
   "execution_count": null,
   "id": "af1d1883",
   "metadata": {},
   "outputs": [],
   "source": [
    "#f, g, h分别是三个函数，接受并返回Series或DataFrame对象的函数时，可以调用pipe方法重写代码\n",
    "\n",
    "resule = (df.pipe(f, arg1=v1)\n",
    "            .pipe(g, v2, arg3=v3)\n",
    "            .pipe(h, arg4=v4))"
   ]
  },
  {
   "cell_type": "markdown",
   "id": "d31b6b7d",
   "metadata": {},
   "source": [
    "本章完"
   ]
  }
 ],
 "metadata": {
  "kernelspec": {
   "display_name": "Python 3",
   "language": "python",
   "name": "python3"
  },
  "language_info": {
   "codemirror_mode": {
    "name": "ipython",
    "version": 3
   },
   "file_extension": ".py",
   "mimetype": "text/x-python",
   "name": "python",
   "nbconvert_exporter": "python",
   "pygments_lexer": "ipython3",
   "version": "3.6.13"
  }
 },
 "nbformat": 4,
 "nbformat_minor": 5
}
