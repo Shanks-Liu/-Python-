{
 "cells": [
  {
   "cell_type": "code",
   "execution_count": null,
   "metadata": {},
   "outputs": [],
   "source": [
    "import pandas as pd\n",
    "from pandas import Series, DataFrame"
   ]
  },
  {
   "cell_type": "markdown",
   "metadata": {},
   "source": [
    "__Series__"
   ]
  },
  {
   "cell_type": "markdown",
   "metadata": {},
   "source": [
    " values属性，index属性，Series对象自身和其索引都有name属性"
   ]
  },
  {
   "cell_type": "code",
   "execution_count": null,
   "metadata": {},
   "outputs": [],
   "source": [
    "obj.name = ''\n",
    "obg.index.name = ''"
   ]
  },
  {
   "cell_type": "markdown",
   "metadata": {},
   "source": [
    "__DataFrame__"
   ]
  },
  {
   "cell_type": "markdown",
   "metadata": {},
   "source": [
    "索引和列都有name属性\n",
    "DataFrame中的一列，可以按字典型标记或属性那样检索为Series  \n",
    "选取的列是数据的视图，而不是拷贝，如果需要复制，则应显式地使用Series的copy方法"
   ]
  },
  {
   "cell_type": "code",
   "execution_count": null,
   "metadata": {},
   "outputs": [],
   "source": [
    "frame['state']  #对于任意列明均有效\n",
    "frame.state  #只在列名是有效的Python变量名时有效"
   ]
  },
  {
   "cell_type": "markdown",
   "metadata": {},
   "source": [
    "pandas中的索引对象是用于存储轴标签和其他元数据的（例如轴名称或标签），索引对象是不可变的，因此用户是无法修改索引对象的  \n",
    "重建索引"
   ]
  },
  {
   "cell_type": "code",
   "execution_count": null,
   "metadata": {},
   "outputs": [],
   "source": [
    "obj.reindex(range(6), mrthod='ffill')  #将值向前填充\n",
    "frame.reindex(columns=states)"
   ]
  },
  {
   "cell_type": "markdown",
   "metadata": {},
   "source": [
    "轴向上删除条目"
   ]
  },
  {
   "cell_type": "code",
   "execution_count": null,
   "metadata": {},
   "outputs": [],
   "source": [
    "new_obj = obj.drop('c')  #有返回值，返回一个新对象\n",
    "obj.drop('c', inplace=True)  #无返回值，直接修改原对象"
   ]
  },
  {
   "cell_type": "markdown",
   "metadata": {},
   "source": [
    "使用loc和iloc选择数据  \n",
    "普通的Python切片是不包含尾部的，Series的切片与之不同  "
   ]
  },
  {
   "cell_type": "markdown",
   "metadata": {},
   "source": [
    "__算术和数据对齐__"
   ]
  },
  {
   "cell_type": "code",
   "execution_count": null,
   "metadata": {},
   "outputs": [],
   "source": [
    "df1.add(df2, fill_value=0) #不重叠的位置出现NA值，用0填充"
   ]
  },
  {
   "cell_type": "markdown",
   "metadata": {},
   "source": [
    "Dataframe和Series之间的操作  "
   ]
  },
  {
   "cell_type": "code",
   "execution_count": null,
   "metadata": {},
   "outputs": [],
   "source": [
    "frame - series  #默认情况下，DataFrame和Series的数学操作中会将Series的索引和DataFrame的列进行匹配，并广播到各行"
   ]
  },
  {
   "cell_type": "code",
   "execution_count": null,
   "metadata": {},
   "outputs": [],
   "source": [
    "frame.sub(series3, axis='index')  #改为在列上进行广播，在行上匹配（应该好好捋捋书上说的在行/列上的意思）"
   ]
  },
  {
   "cell_type": "markdown",
   "metadata": {},
   "source": [
    "函数应用和映射"
   ]
  },
  {
   "cell_type": "code",
   "execution_count": null,
   "metadata": {},
   "outputs": [],
   "source": [
    "frame.apply(f)  #这里的函数f，可以计算Series最大值和最小值的差，会被frame中的每一列调用一次，结果是一个以frame的列为索引的Series\n",
    "                #（和数组的聚合函数横轴向像）\n",
    "frame.apply(f, axis=\"columns\")  #被每行调用一次\n",
    "frame.applymap(f)  #逐元素的Python函数也可以使用\n",
    "series.map(f)  #逐元素的函数应用到series上"
   ]
  },
  {
   "cell_type": "markdown",
   "metadata": {},
   "source": [
    "__排序和排名__"
   ]
  },
  {
   "cell_type": "code",
   "execution_count": null,
   "metadata": {},
   "outputs": [],
   "source": [
    "new_obj = obj.sort_index()   #返回一个新的，排序好的对象. 默认axis=0, ascending=True,横轴向，升序\n",
    "obj.sort_values(by=['a', 'b'])  #根据值进行排序，缺失值会被排到尾部\n",
    "obj.rank()  #排名，索引不变，值变成从1到总数的数值升序排名,会出现并列排名。使用参数min,max,first,dense来打破平级关系"
   ]
  },
  {
   "cell_type": "markdown",
   "metadata": {},
   "source": [
    "__描述性统计的概述与计算__"
   ]
  },
  {
   "cell_type": "markdown",
   "metadata": {},
   "source": [
    "与NumPy数组中的类似方法相比，它们内建了处理缺失值的功能，NA值会被自动排除，可以用参数实现不排除NA值"
   ]
  },
  {
   "cell_type": "code",
   "execution_count": null,
   "metadata": {},
   "outputs": [],
   "source": [
    "df.mean(axis='colums', skipna=False)"
   ]
  },
  {
   "cell_type": "code",
   "execution_count": null,
   "metadata": {},
   "outputs": [],
   "source": [
    "df.corr()  #看两两相关\n",
    "df.corrwith(series)  #看一对多相关"
   ]
  },
  {
   "cell_type": "code",
   "execution_count": null,
   "metadata": {},
   "outputs": [],
   "source": [
    "obj.unique()  #没有顺序"
   ]
  },
  {
   "cell_type": "code",
   "execution_count": null,
   "metadata": {},
   "outputs": [],
   "source": [
    "df.value_counts()  #默认按数量降序排序\n",
    "pd.value_counts(df.values, sort=False)"
   ]
  },
  {
   "cell_type": "code",
   "execution_count": null,
   "metadata": {},
   "outputs": [],
   "source": [
    "mask = obj.isin(['b', 'c'])\n",
    "obj[mask]"
   ]
  },
  {
   "cell_type": "markdown",
   "metadata": {},
   "source": [
    "本章完"
   ]
  }
 ],
 "metadata": {
  "kernelspec": {
   "display_name": "Python 3",
   "language": "python",
   "name": "python3"
  },
  "language_info": {
   "codemirror_mode": {
    "name": "ipython",
    "version": 3
   },
   "file_extension": ".py",
   "mimetype": "text/x-python",
   "name": "python",
   "nbconvert_exporter": "python",
   "pygments_lexer": "ipython3",
   "version": "3.6.9"
  }
 },
 "nbformat": 4,
 "nbformat_minor": 2
}
