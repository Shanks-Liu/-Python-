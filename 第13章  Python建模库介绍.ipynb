{
 "cells": [
  {
   "cell_type": "markdown",
   "id": "07d3d5b2",
   "metadata": {},
   "source": [
    "将介绍两个流行的建模工具包  statsmodels和scikit_learn"
   ]
  },
  {
   "cell_type": "markdown",
   "id": "70f6d86e",
   "metadata": {},
   "source": [
    "##   pandas与建模代码的结合"
   ]
  },
  {
   "cell_type": "markdown",
   "id": "7a4f1da4",
   "metadata": {},
   "source": [
    ".values属性一般在数据是同构化的时候使用，当拥有不止简单的数字类型列时，使用Patsy可以更简单、更少出错"
   ]
  },
  {
   "cell_type": "markdown",
   "id": "f76b6e48",
   "metadata": {},
   "source": [
    "##  使用Patsy创建模型描述"
   ]
  },
  {
   "cell_type": "code",
   "execution_count": null,
   "id": "cdeeab37",
   "metadata": {},
   "outputs": [],
   "source": [
    "import patsy\n",
    "\n",
    "y, X = patsy.dmatrices('y ~ x0 + x1', data)"
   ]
  },
  {
   "cell_type": "markdown",
   "id": "380b6241",
   "metadata": {},
   "source": [
    "Patsy的DesignMatrix实例是含有附加元数据的Numpy ndarray"
   ]
  },
  {
   "cell_type": "markdown",
   "id": "10c00a19",
   "metadata": {},
   "source": [
    "__Patsy公式中的数据转换__"
   ]
  },
  {
   "cell_type": "code",
   "execution_count": null,
   "id": "d133edb9",
   "metadata": {},
   "outputs": [],
   "source": [
    "y, X = patsy.dmatrices('y ~ x0 + np.log(np.abs(x1) +1 )', data)    #可以将Python代码混合到Patsy公式中"
   ]
  },
  {
   "cell_type": "code",
   "execution_count": null,
   "id": "bebbead1",
   "metadata": {},
   "outputs": [],
   "source": [
    "y, X = patsy.dmatrices('y ~ standardize(x0) + center(x1)', data)    #一些常用的变量转换，Patsy具有内置函数"
   ]
  },
  {
   "cell_type": "markdown",
   "id": "f456d1ea",
   "metadata": {},
   "source": [
    "__分类数据与Patsy__"
   ]
  },
  {
   "cell_type": "markdown",
   "id": "ad97df55",
   "metadata": {},
   "source": [
    "当在Patsy公式中使用非数字名词列时，它们将会被默认转换为虚拟变量"
   ]
  },
  {
   "cell_type": "code",
   "execution_count": null,
   "id": "889ae06e",
   "metadata": {},
   "outputs": [],
   "source": [
    "y, X = patsy.dmatrices('v2 ~ key1 + key2 + key1:key2', data)"
   ]
  },
  {
   "cell_type": "markdown",
   "id": "56a1ed00",
   "metadata": {},
   "source": [
    "##  statsmodels介绍"
   ]
  },
  {
   "cell_type": "markdown",
   "id": "455fd5fe",
   "metadata": {},
   "source": [
    "statsmodels包含更多的“经典”频率学派统计方法"
   ]
  },
  {
   "cell_type": "markdown",
   "id": "a622f0f8",
   "metadata": {},
   "source": [
    "__评估线性模型__"
   ]
  },
  {
   "cell_type": "code",
   "execution_count": null,
   "id": "1623d385",
   "metadata": {},
   "outputs": [],
   "source": [
    "#两种不同的接口\n",
    "import statsmodels.api = sm\n",
    "import statsmodels.formula.api = smf"
   ]
  },
  {
   "cell_type": "code",
   "execution_count": null,
   "id": "e8472709",
   "metadata": {},
   "outputs": [],
   "source": [
    "X_model = sm.add_constant(X)\n",
    "#经典步骤\n",
    "model = sm.OLS(y, X)\n",
    "results = model.fit()\n",
    "results.params\n",
    "results.summary()\n",
    "results.predict()"
   ]
  },
  {
   "cell_type": "markdown",
   "id": "e563db23",
   "metadata": {},
   "source": [
    "__评估时间序列处理__"
   ]
  },
  {
   "cell_type": "code",
   "execution_count": null,
   "id": "0f23050b",
   "metadata": {},
   "outputs": [],
   "source": [
    "model = sm.tsa.AR(values)    #values是一个时间序列，单纯一个列表\n",
    "results = model.fit(MAXLAGS)"
   ]
  },
  {
   "cell_type": "markdown",
   "id": "d27a3432",
   "metadata": {},
   "source": [
    "##  scikit-learn介绍"
   ]
  },
  {
   "cell_type": "markdown",
   "id": "6ce6dcec",
   "metadata": {},
   "source": [
    "使用最广泛且最受信任的通用Python机器学习库"
   ]
  },
  {
   "cell_type": "markdown",
   "id": "3a69919f",
   "metadata": {},
   "source": [
    "这里就不敲了，和之前看的书就衔接起来了"
   ]
  },
  {
   "cell_type": "markdown",
   "id": "772fc594",
   "metadata": {},
   "source": [
    "本章完"
   ]
  }
 ],
 "metadata": {
  "kernelspec": {
   "display_name": "Python 3",
   "language": "python",
   "name": "python3"
  },
  "language_info": {
   "codemirror_mode": {
    "name": "ipython",
    "version": 3
   },
   "file_extension": ".py",
   "mimetype": "text/x-python",
   "name": "python",
   "nbconvert_exporter": "python",
   "pygments_lexer": "ipython3",
   "version": "3.6.13"
  }
 },
 "nbformat": 4,
 "nbformat_minor": 5
}
