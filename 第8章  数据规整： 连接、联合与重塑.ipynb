{
 "cells": [
  {
   "cell_type": "markdown",
   "metadata": {},
   "source": [
    "在很多应用中，数据可能分布在多个文件或数据库中，抑或以某种不易于分析的格式进行排列。本章关注于对数据联合、连接以及重新排列有用的工具"
   ]
  },
  {
   "cell_type": "markdown",
   "metadata": {},
   "source": [
    "__分层索引__"
   ]
  },
  {
   "cell_type": "markdown",
   "metadata": {},
   "source": [
    "分层索引在重塑数据和数据透视表等分组操作中扮演了重要角色"
   ]
  },
  {
   "cell_type": "code",
   "execution_count": null,
   "metadata": {},
   "outputs": [],
   "source": [
    "data.unstack()  #把分层索引行里层变成列名\n",
    "data.unstack().stack()"
   ]
  },
  {
   "cell_type": "markdown",
   "metadata": {},
   "source": [
    "重排序和层级排序"
   ]
  },
  {
   "cell_type": "code",
   "execution_count": null,
   "metadata": {},
   "outputs": [],
   "source": [
    "frame.swaplevel('key1', 'key2')  #接收两个层级序号或层级名称，返回一个进行了层级变更的新对象（但是数据是不变的）\n",
    "frame.swaplevel(0, 1).sort_index(level=0)  #在进行层级变换时，使用sort_index以使得结果按照层级进行字典排序也很常见"
   ]
  },
  {
   "cell_type": "markdown",
   "metadata": {},
   "source": [
    "按层级进行汇总统计"
   ]
  },
  {
   "cell_type": "code",
   "execution_count": null,
   "metadata": {},
   "outputs": [],
   "source": [
    "frame.sum(level='color', axis=1)  #level指定在特定轴上进行聚合（和axis内涵好像是相反的）"
   ]
  },
  {
   "cell_type": "markdown",
   "metadata": {},
   "source": [
    "使用DataFrame的列进行索引"
   ]
  },
  {
   "cell_type": "code",
   "execution_count": null,
   "metadata": {},
   "outputs": [],
   "source": [
    "frame2 = frame.set_index(['c', 'd'], drop=False)  #set_index函数会生成一个新的DataFrame，新的DataFrame使用一个或多个列作为索引，\n",
    "                                                #默认情况下，这些列会从DataFrame中移除，也可以将他们留在DataFrame中\n",
    "frame2.reset_index()  #反向操作，分层索引的索引层级会被移动到列中"
   ]
  },
  {
   "cell_type": "markdown",
   "metadata": {},
   "source": [
    "__联合与合并数据集__"
   ]
  },
  {
   "cell_type": "markdown",
   "metadata": {},
   "source": [
    "包含在pandas对象的数据可以通过多种方式联合在一起"
   ]
  },
  {
   "cell_type": "markdown",
   "metadata": {},
   "source": [
    "pandas.merge根据一个或多个键将行进行连接。  \n",
    "pandas.concat使对象在轴向上进行粘合或“堆叠”  \n",
    "combine_first实例方法允许将重叠的数据拼凑在一起，以使用一个对象中的值填充另一个对象中的缺失值"
   ]
  },
  {
   "cell_type": "markdown",
   "metadata": {},
   "source": [
    "数据库风格的DataFrame连接"
   ]
  },
  {
   "cell_type": "code",
   "execution_count": null,
   "metadata": {},
   "outputs": [],
   "source": [
    "pd.merge(df1, df2, left_on='lkey', right_on=\"rkey\", how='outer/left/right')  #默认情况下，merge做的是内连接（'inner join'）\n",
    "                                                                                #结果中的键是两张表的交集\n",
    "                                                                                #多对多连接是行的笛卡尔积（从左边先找，到右边对应）\n",
    "                                                                                #如果每个对象列名不同，可以分别为它们指定\n",
    "                                                                                #使用多个键进行合并时，传入一个列名的列表on=[]\n",
    "                                                                                #处理重叠的列名，suffixed=('_left', '_right')"
   ]
  },
  {
   "cell_type": "markdown",
   "metadata": {},
   "source": [
    "根据索引合并"
   ]
  },
  {
   "cell_type": "code",
   "execution_count": null,
   "metadata": {},
   "outputs": [],
   "source": [
    "pd.merge(left1, right1, left_on='key', right_index=True)   #使用right的行索引作为它的连接键，返回结果索引有变化\n",
    "                                                            #在多层索引数据的情况下，必须以列表的方法指名合并所需多个列\n",
    "                                                            #使用两边的索引进行合并也是可以的"
   ]
  },
  {
   "cell_type": "code",
   "execution_count": null,
   "metadata": {},
   "outputs": [],
   "source": [
    "left2.join(right2,how='outer')      #DataFrame有一个方便的join实例方法，用于按照索引合并。\n",
    "                                    #该方法也可以用于合并多个索引相同或相似但没有重叠列的DataFrame对象。"
   ]
  },
  {
   "cell_type": "markdown",
   "metadata": {},
   "source": [
    "沿轴向连接"
   ]
  },
  {
   "cell_type": "code",
   "execution_count": null,
   "metadata": {},
   "outputs": [],
   "source": [
    "pd.concat([s1, s2, s3])  #默认情况下，concat方法是沿着axis=0的轴向生效的，生成另一个Series"
   ]
  },
  {
   "cell_type": "markdown",
   "metadata": {},
   "source": [
    "联合重叠数据"
   ]
  },
  {
   "cell_type": "code",
   "execution_count": null,
   "metadata": {},
   "outputs": [],
   "source": [
    "#另一个数据联合场景，既不是合并操作，也不是连接操作\n",
    "b.combine_first(a)  #combine_first逐列做相同的操作，因此可以人为它是根据传入的对象来“修补”调用对象的缺失值。"
   ]
  },
  {
   "cell_type": "markdown",
   "metadata": {},
   "source": [
    "__重塑和透视__"
   ]
  },
  {
   "cell_type": "markdown",
   "metadata": {},
   "source": [
    "使用多层索引进行重塑"
   ]
  },
  {
   "cell_type": "code",
   "execution_count": null,
   "metadata": {},
   "outputs": [],
   "source": [
    "result = data.stack()  #使用stack方法会将列透视到行，产生一个新的series\n",
    "                        #默认情况下，堆叠会过滤出缺失值，因此堆叠拆堆的操作是可逆的。\n",
    "result.unstack()  #从一个多层索引序列中，你可以使用unstack方法将数据重排列后放入一个DataFrame中\n",
    "                    #默认情况下，最内层是已拆堆的。也可以传入层级序号（传入0拆分外层）或名称来拆分一个不同的层级"
   ]
  },
  {
   "cell_type": "markdown",
   "metadata": {},
   "source": [
    "将“长”透视为“宽”　　"
   ]
  },
  {
   "cell_type": "code",
   "execution_count": null,
   "metadata": {},
   "outputs": [],
   "source": [
    "pivot方法  #以后研究"
   ]
  },
  {
   "cell_type": "markdown",
   "metadata": {},
   "source": [
    "将“宽”透视为“长”"
   ]
  },
  {
   "cell_type": "code",
   "execution_count": null,
   "metadata": {},
   "outputs": [],
   "source": [
    "pivot方法的反操作是pandas.melt  #以后研究"
   ]
  },
  {
   "cell_type": "markdown",
   "metadata": {},
   "source": [
    "本章完"
   ]
  }
 ],
 "metadata": {
  "kernelspec": {
   "display_name": "Python 3",
   "language": "python",
   "name": "python3"
  },
  "language_info": {
   "codemirror_mode": {
    "name": "ipython",
    "version": 3
   },
   "file_extension": ".py",
   "mimetype": "text/x-python",
   "name": "python",
   "nbconvert_exporter": "python",
   "pygments_lexer": "ipython3",
   "version": "3.6.9"
  }
 },
 "nbformat": 4,
 "nbformat_minor": 2
}
