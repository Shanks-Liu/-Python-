{
 "cells": [
  {
   "cell_type": "markdown",
   "id": "3fa3c69f",
   "metadata": {},
   "source": [
    "把感觉有用的摘抄下来"
   ]
  },
  {
   "cell_type": "markdown",
   "id": "4a6dab9f",
   "metadata": {},
   "source": [
    "##  1.  从Bitly获取1.USA.gov数据"
   ]
  },
  {
   "cell_type": "code",
   "execution_count": null,
   "id": "a8a9ff54",
   "metadata": {},
   "outputs": [],
   "source": [
    "time_zones = [rec['tz'] for rec in records if 'tz' in rec]"
   ]
  },
  {
   "cell_type": "code",
   "execution_count": null,
   "id": "821e694d",
   "metadata": {},
   "outputs": [],
   "source": [
    "def get_counts(sequence):\n",
    "    counts = {}\n",
    "    for i in sequence:\n",
    "        if i in counts:\n",
    "            counts[i] += 1\n",
    "        else:\n",
    "            counts[i] = 1\n",
    "    return counts"
   ]
  },
  {
   "cell_type": "code",
   "execution_count": null,
   "id": "43c5b04d",
   "metadata": {},
   "outputs": [],
   "source": [
    "results = pd.Series([x.split()[0] for x in frame.dropna()])"
   ]
  },
  {
   "cell_type": "code",
   "execution_count": null,
   "id": "6a8b02bb",
   "metadata": {},
   "outputs": [],
   "source": [
    "cframe['os'] = np.where(cframe['a'].str.contains('Windows'), 'Windows', 'Not Windows')"
   ]
  },
  {
   "cell_type": "markdown",
   "id": "137a89bb",
   "metadata": {},
   "source": [
    "##  2.  MovieLens  1M数据集"
   ]
  },
  {
   "cell_type": "code",
   "execution_count": null,
   "id": "293a1311",
   "metadata": {},
   "outputs": [],
   "source": [
    "pd.options.display.max_rows = 10"
   ]
  },
  {
   "cell_type": "code",
   "execution_count": null,
   "id": "11a5d23b",
   "metadata": {},
   "outputs": [],
   "source": [
    "data = pd.merge(pd.merge(ratings, users), movies)"
   ]
  },
  {
   "cell_type": "code",
   "execution_count": null,
   "id": "78d7b327",
   "metadata": {},
   "outputs": [],
   "source": [
    "mean_ratings = data.pivot_table('raintg', index='title', columns='gender', aggfunc='mean')"
   ]
  },
  {
   "cell_type": "code",
   "execution_count": null,
   "id": "d1dcbd8d",
   "metadata": {},
   "outputs": [],
   "source": [
    "ratings_by_title = data.groupby('title').size()    #使用size()为每个标题获取一个元素是个分组大小的Seies"
   ]
  },
  {
   "cell_type": "code",
   "execution_count": null,
   "id": "e7ed3abd",
   "metadata": {},
   "outputs": [],
   "source": [
    "active_titles = ratings_by_title.index[ratings_by_title >= 250]    #先挑出来索引\n",
    "mean_ratings = mean_ratings.loc[active_titles]    #根绝挑出来的索引去mean_ratings中选中所需的行"
   ]
  },
  {
   "cell_type": "code",
   "execution_count": null,
   "id": "a152d97f",
   "metadata": {},
   "outputs": [],
   "source": [
    "top_female_ratings = mean_ratings.sort_values(by='F', ascending=False)"
   ]
  },
  {
   "cell_type": "markdown",
   "id": "3c84e5a6",
   "metadata": {},
   "source": [
    "##  3.  美国1880~2010年的婴儿名字"
   ]
  },
  {
   "cell_type": "code",
   "execution_count": null,
   "id": "dea10995",
   "metadata": {},
   "outputs": [],
   "source": [
    "names = pd.concat(pieces, ignore_index=True)    #pieces是一个元素为df的列表"
   ]
  },
  {
   "cell_type": "code",
   "execution_count": null,
   "id": "d8b491e8",
   "metadata": {},
   "outputs": [],
   "source": [
    "total_birth = names.pivot_table('births', index='year', columns='sex', agggunc=sum)"
   ]
  },
  {
   "cell_type": "code",
   "execution_count": null,
   "id": "a0f5cfc9",
   "metadata": {},
   "outputs": [],
   "source": [
    "names = names.groupby(['year', 'sex']).apply(add_prop)    #注意这里返回的形式"
   ]
  },
  {
   "cell_type": "markdown",
   "id": "d1dc9d65",
   "metadata": {},
   "source": [
    "## 4. 美国农业部食品数据库"
   ]
  },
  {
   "cell_type": "code",
   "execution_count": null,
   "id": "b7da28cc",
   "metadata": {},
   "outputs": [],
   "source": [
    "db = json.load(open('datasets/usda_food/database.json'))"
   ]
  },
  {
   "cell_type": "code",
   "execution_count": null,
   "id": "e3db6a59",
   "metadata": {},
   "outputs": [],
   "source": [
    "nutrients = nutrients.drop_duplicates()    #删除重复值"
   ]
  },
  {
   "cell_type": "code",
   "execution_count": null,
   "id": "e3637688",
   "metadata": {},
   "outputs": [],
   "source": [
    "info = info.rename(columns=col_mapping, copy=False)    #重命名"
   ]
  },
  {
   "cell_type": "code",
   "execution_count": null,
   "id": "1b1946a6",
   "metadata": {},
   "outputs": [],
   "source": [
    "result = ndata.groupby(['nutrient', 'fgroup'])['value'].quantile(0.5)    #中位数"
   ]
  },
  {
   "cell_type": "markdown",
   "id": "b2456669",
   "metadata": {},
   "source": [
    "##   5.  2012年联邦选举委员会数据库"
   ]
  },
  {
   "cell_type": "code",
   "execution_count": null,
   "id": "eb2a4438",
   "metadata": {},
   "outputs": [],
   "source": [
    "unique_cands = fec.cand_nm.unique()    #获得不同候选人名单"
   ]
  },
  {
   "cell_type": "code",
   "execution_count": null,
   "id": "4e81e594",
   "metadata": {},
   "outputs": [],
   "source": [
    "fec['party'] = fec.cand_nm.map(parties)    #把映射后的政党背景作为一列加入"
   ]
  },
  {
   "cell_type": "code",
   "execution_count": null,
   "id": "d8e71302",
   "metadata": {},
   "outputs": [],
   "source": [
    "fec = fec[fec.contb_receipt_amt > 0]    #将分析范围限制在正向贡献中"
   ]
  },
  {
   "cell_type": "code",
   "execution_count": null,
   "id": "5b942f9f",
   "metadata": {},
   "outputs": [],
   "source": [
    "fec_mrbo = fec[fec.cand_nm.isin(['obama, Barack', 'Romney, Mitt'])]    #准备一个仅对他俩竞选有贡献的子集"
   ]
  },
  {
   "cell_type": "code",
   "execution_count": null,
   "id": "3e0f49be",
   "metadata": {},
   "outputs": [],
   "source": [
    "f = lambda x: occ_mapping.get(x, x)    #如果没有映射，则返回x"
   ]
  },
  {
   "cell_type": "code",
   "execution_count": null,
   "id": "2e1ad738",
   "metadata": {},
   "outputs": [],
   "source": [
    "normed_sums = bucket_sums.div(bucket_sums.sum(1), axis=0)    #DataFrame与Series之间的运算，得到相对百分比"
   ]
  },
  {
   "cell_type": "markdown",
   "id": "5ac15d6d",
   "metadata": {},
   "source": [
    "本章完"
   ]
  }
 ],
 "metadata": {
  "kernelspec": {
   "display_name": "Python 3",
   "language": "python",
   "name": "python3"
  },
  "language_info": {
   "codemirror_mode": {
    "name": "ipython",
    "version": 3
   },
   "file_extension": ".py",
   "mimetype": "text/x-python",
   "name": "python",
   "nbconvert_exporter": "python",
   "pygments_lexer": "ipython3",
   "version": "3.6.13"
  }
 },
 "nbformat": 4,
 "nbformat_minor": 5
}
