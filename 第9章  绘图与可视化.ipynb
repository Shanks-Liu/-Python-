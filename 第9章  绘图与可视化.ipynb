{
 "cells": [
  {
   "cell_type": "markdown",
   "id": "07acd6dd",
   "metadata": {},
   "source": [
    "matplotlib是一个用于生成出版级质量图表（通常是二维的）的桌面绘图包。该项目由John Hunter于2002年发起。"
   ]
  },
  {
   "cell_type": "markdown",
   "id": "c2473a1c",
   "metadata": {},
   "source": [
    "##  简明matplotlib API入门"
   ]
  },
  {
   "cell_type": "code",
   "execution_count": 1,
   "id": "1c8fa7af",
   "metadata": {},
   "outputs": [],
   "source": [
    "%matplotlib notebook"
   ]
  },
  {
   "cell_type": "code",
   "execution_count": null,
   "id": "f40285a0",
   "metadata": {},
   "outputs": [],
   "source": [
    "import matplotlib.pyplot as plt"
   ]
  },
  {
   "cell_type": "markdown",
   "id": "bfa25e5d",
   "metadata": {},
   "source": [
    "__图片与子图__"
   ]
  },
  {
   "cell_type": "code",
   "execution_count": null,
   "id": "576e9557",
   "metadata": {},
   "outputs": [],
   "source": [
    "fig = plt.figure()    #matplolib所绘制的图位于图片对象中"
   ]
  },
  {
   "cell_type": "code",
   "execution_count": null,
   "id": "e8d27874",
   "metadata": {},
   "outputs": [],
   "source": [
    "ax1 = fig.add_subplot(2, 2, 1)    #fig.add_subplot返回的对象是Axes Subplot对象\n",
    "ax2 = fig.add_subplot(2, 2, 2)"
   ]
  },
  {
   "cell_type": "code",
   "execution_count": null,
   "id": "1dd84a85",
   "metadata": {},
   "outputs": [],
   "source": [
    "plt.plot(np.random.rand(100).cumsum(), style='k--')    #会在最后一个图片和子图上进行绘制"
   ]
  },
  {
   "cell_type": "code",
   "execution_count": null,
   "id": "c382990d",
   "metadata": {},
   "outputs": [],
   "source": [
    "ax2.scatter(np.arange(30), np.arange(30) + 3 * mp.random.eandn(30))     #在其他空白子图上，调用Axes Subplot对象的实例方法进行绘图（推荐）"
   ]
  },
  {
   "cell_type": "markdown",
   "id": "ddc2db26",
   "metadata": {},
   "source": [
    "便捷方法"
   ]
  },
  {
   "cell_type": "code",
   "execution_count": null,
   "id": "6b3c105c",
   "metadata": {},
   "outputs": [],
   "source": [
    "fig, axes = plt.subplots(2, 3)    #创建一个新的图片，然后返回包含了已生成子图对象的Numpy数组，数组axes可以像二维数组那样方便地进行索引"
   ]
  },
  {
   "cell_type": "markdown",
   "id": "22c96816",
   "metadata": {},
   "source": [
    "__颜色、标记和线类型__"
   ]
  },
  {
   "cell_type": "code",
   "execution_count": null,
   "id": "da9bb2fc",
   "metadata": {},
   "outputs": [],
   "source": [
    "plt.plot(data, 'ko--', label='Default')\n",
    "plt.plot(data, 'k-', drawstyle='steps=post', label='steps-post')\n",
    "plt.legend(loc='best')    #调用plt.legend为每条线生成一个用于区分的图例,‘best’会自动选择最合适的位置"
   ]
  },
  {
   "cell_type": "markdown",
   "id": "53a8aaf4",
   "metadata": {},
   "source": [
    "__刻度、标签和图例__"
   ]
  },
  {
   "cell_type": "code",
   "execution_count": null,
   "id": "932949b4",
   "metadata": {},
   "outputs": [],
   "source": [
    "ax = fig.add_subplot(1, 1, 1)\n",
    "ax.set_xticks([])\n",
    "ax.set_xticklabels([])    #推荐使用subplot的实例方法"
   ]
  },
  {
   "cell_type": "markdown",
   "id": "e7228d20",
   "metadata": {},
   "source": [
    "__注释与子图加工__"
   ]
  },
  {
   "cell_type": "code",
   "execution_count": null,
   "id": "c84e7d52",
   "metadata": {},
   "outputs": [],
   "source": [
    "ax.annotate()    #添加注释"
   ]
  },
  {
   "cell_type": "code",
   "execution_count": null,
   "id": "e90f9ff7",
   "metadata": {},
   "outputs": [],
   "source": [
    "as.add_patch()    #添加图形（矩形、圆形.....。）"
   ]
  },
  {
   "cell_type": "markdown",
   "id": "842d61e6",
   "metadata": {},
   "source": [
    "__将图片保存到文件__"
   ]
  },
  {
   "cell_type": "code",
   "execution_count": null,
   "id": "6847e186",
   "metadata": {},
   "outputs": [],
   "source": [
    "plt.savefig('figpath.svg', dpi=400, bbos_inches='tight')    #这个方法等价于图片对象的savefig实例方法。 文件类型从文件拓展名中推断出来"
   ]
  },
  {
   "cell_type": "markdown",
   "id": "3080b847",
   "metadata": {},
   "source": [
    "__matplotlib设置__"
   ]
  },
  {
   "cell_type": "code",
   "execution_count": null,
   "id": "2915b7d5",
   "metadata": {},
   "outputs": [],
   "source": [
    "plt.rc('figure', figsize=(10, 10), **font_options)"
   ]
  },
  {
   "cell_type": "markdown",
   "id": "beb45fad",
   "metadata": {},
   "source": [
    "##  使用pandas和seaborn绘图"
   ]
  },
  {
   "cell_type": "markdown",
   "id": "c295b5a8",
   "metadata": {},
   "source": [
    "__折线图__"
   ]
  },
  {
   "cell_type": "code",
   "execution_count": null,
   "id": "11301591",
   "metadata": {},
   "outputs": [],
   "source": [
    "s.plot()    #Series和DataFrame都有一个plot属性，用于绘制基本的图形  df.plot()等价于df.plot.line()\n",
    "df.plot(subplots=True)"
   ]
  },
  {
   "cell_type": "markdown",
   "id": "ed91b04e",
   "metadata": {},
   "source": [
    "__柱状图__"
   ]
  },
  {
   "cell_type": "code",
   "execution_count": null,
   "id": "35f7b2f3",
   "metadata": {},
   "outputs": [],
   "source": [
    "s.plot.bar()\n",
    "df.plot.barh(stacked=True)"
   ]
  },
  {
   "cell_type": "markdown",
   "id": "3650d20b",
   "metadata": {},
   "source": [
    "载入seaborn"
   ]
  },
  {
   "cell_type": "code",
   "execution_count": null,
   "id": "9eb55f11",
   "metadata": {},
   "outputs": [],
   "source": [
    "import seaborn as sns\n",
    "#seaborn中的绘图函数使用一个data参数，这个参数可以是pandas的DataFrame\n",
    "sns.barplot(x='tip_pct', y='day', data=tips, orient='h', hue='time')    #柱子的值是tip_pct的平均值，黑线代表95%置信区间\n",
    "\n",
    "sns.set(style='whitegrid')    #在不同的绘图外观中进行切换"
   ]
  },
  {
   "cell_type": "markdown",
   "id": "7a71c073",
   "metadata": {},
   "source": [
    "__直方图和密度图__"
   ]
  },
  {
   "cell_type": "code",
   "execution_count": null,
   "id": "e36e542f",
   "metadata": {},
   "outputs": [],
   "source": [
    "s.plot.hist(bins=50)"
   ]
  },
  {
   "cell_type": "code",
   "execution_count": null,
   "id": "953bd2ab",
   "metadata": {},
   "outputs": [],
   "source": [
    "s.plot.density()"
   ]
  },
  {
   "cell_type": "code",
   "execution_count": null,
   "id": "0681b685",
   "metadata": {},
   "outputs": [],
   "source": [
    "sns.distplot()"
   ]
  },
  {
   "cell_type": "markdown",
   "id": "5a6c9ff8",
   "metadata": {},
   "source": [
    "__散点图或点图__"
   ]
  },
  {
   "cell_type": "code",
   "execution_count": null,
   "id": "dab45736",
   "metadata": {},
   "outputs": [],
   "source": [
    "sns.regplot('m1', 'unemp', data=trans_data)      #绘制散点图，并拟合出一个条线性回归线"
   ]
  },
  {
   "cell_type": "code",
   "execution_count": null,
   "id": "4fbbdd7c",
   "metadata": {},
   "outputs": [],
   "source": [
    "sns.pairplot(trans_data, diag_kind='kde', plot_kws={'alpha': 0.2})    #散点图矩阵"
   ]
  },
  {
   "cell_type": "markdown",
   "id": "63d6c465",
   "metadata": {},
   "source": [
    "__分类面格和分类数据__"
   ]
  },
  {
   "cell_type": "markdown",
   "id": "57adc4dd",
   "metadata": {},
   "source": [
    "有额外的分组维度怎么办？"
   ]
  },
  {
   "cell_type": "code",
   "execution_count": null,
   "id": "dcba6876",
   "metadata": {},
   "outputs": [],
   "source": [
    "#factorplot支持其他可能有用的图类型\n",
    "sns.factorplot(x='day', y='tip_pct', hue='time', col='smoker', kind='bar', data=tips[tips['tip_pct'] < 1])#还可以通过每个时间值增加一行\n",
    "                                                                                                            #来扩展分面网格"
   ]
  },
  {
   "cell_type": "markdown",
   "id": "c5b1a2af",
   "metadata": {},
   "source": [
    "##  其他Python可视化工具"
   ]
  },
  {
   "cell_type": "markdown",
   "id": "8c0b2dd0",
   "metadata": {},
   "source": [
    "Bokeh和Plotly这样的工具，在web浏览器中创建动态的、交互式的图像"
   ]
  },
  {
   "cell_type": "markdown",
   "id": "9bfbeaad",
   "metadata": {},
   "source": [
    "本章完"
   ]
  }
 ],
 "metadata": {
  "kernelspec": {
   "display_name": "Python 3",
   "language": "python",
   "name": "python3"
  },
  "language_info": {
   "codemirror_mode": {
    "name": "ipython",
    "version": 3
   },
   "file_extension": ".py",
   "mimetype": "text/x-python",
   "name": "python",
   "nbconvert_exporter": "python",
   "pygments_lexer": "ipython3",
   "version": "3.6.13"
  }
 },
 "nbformat": 4,
 "nbformat_minor": 5
}
