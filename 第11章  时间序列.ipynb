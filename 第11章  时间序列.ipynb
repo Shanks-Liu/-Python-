{
 "cells": [
  {
   "cell_type": "markdown",
   "id": "dc99de41",
   "metadata": {},
   "source": [
    "* 时间戳，具体的时刻\n",
    "* 固定的时间区间，例如2007的1月或整个2010年\n",
    "* 时间间隔，由开始和结束时间戳表示。时间区间可以被认为是间隔的特殊情况\n",
    "* 实验时间或消耗时间。每个时间戳是相对于特定开始时间的时间的量度"
   ]
  },
  {
   "cell_type": "markdown",
   "id": "8ce2f676",
   "metadata": {},
   "source": [
    "##  1.日期和时间数据的类型及工具"
   ]
  },
  {
   "cell_type": "markdown",
   "id": "971b7e09",
   "metadata": {},
   "source": [
    "Python标准库包含了日期和时间数据的类型，也包括日历相关的功能  \n",
    "datetime.datetime和calender  "
   ]
  },
  {
   "cell_type": "markdown",
   "id": "5c47bbf1",
   "metadata": {},
   "source": [
    "__字符串和datetime互相转换__"
   ]
  },
  {
   "cell_type": "markdown",
   "id": "8ce0c4c7",
   "metadata": {},
   "source": [
    "使用str方法或传递一个指定的格式给strftime方法来对datetime对象和pandas的Timestamp对象进行格式化"
   ]
  },
  {
   "cell_type": "code",
   "execution_count": null,
   "id": "f6929e3c",
   "metadata": {},
   "outputs": [],
   "source": [
    "from datetime import datetime\n",
    "stamp = datetime(2011, 1, 3)"
   ]
  },
  {
   "cell_type": "code",
   "execution_count": null,
   "id": "f2474af2",
   "metadata": {},
   "outputs": [],
   "source": [
    "str(stamp)"
   ]
  },
  {
   "cell_type": "code",
   "execution_count": null,
   "id": "b7dafb02",
   "metadata": {},
   "outputs": [],
   "source": [
    "stamp.strftime('%Y-%m-%d')"
   ]
  },
  {
   "cell_type": "markdown",
   "id": "85c388bf",
   "metadata": {},
   "source": [
    "也可以使用strptime和格式代码，将字符串转化日期"
   ]
  },
  {
   "cell_type": "code",
   "execution_count": null,
   "id": "7aa4dda4",
   "metadata": {},
   "outputs": [],
   "source": [
    "value = '2011-01-03'\n",
    "datetime.strptime(value, '%Y-%m-%d')"
   ]
  },
  {
   "cell_type": "markdown",
   "id": "4a5dbbc7",
   "metadata": {},
   "source": [
    "直接使用parser.parse方法解析大部分人类可理解的日期表示"
   ]
  },
  {
   "cell_type": "code",
   "execution_count": null,
   "id": "53319036",
   "metadata": {},
   "outputs": [],
   "source": [
    "from dateutil.parser import parse\n",
    "parse('2011-01-03')\n",
    "parse('6/12/2011', dayfirst=True)"
   ]
  },
  {
   "cell_type": "markdown",
   "id": "e6de7cb4",
   "metadata": {},
   "source": [
    "pd.to_datetime方法可以转换很多不同的日期表示格式"
   ]
  },
  {
   "cell_type": "code",
   "execution_count": null,
   "id": "beb30dfd",
   "metadata": {},
   "outputs": [],
   "source": [
    "pd.to_datetime(datestrs)"
   ]
  },
  {
   "cell_type": "markdown",
   "id": "97679319",
   "metadata": {},
   "source": [
    "##  2.时间序列基础"
   ]
  },
  {
   "cell_type": "markdown",
   "id": "fbfc9462",
   "metadata": {},
   "source": [
    "pandas中的基础时间序列种类是有时间戳索引的Series，在pandas外部则通常表示为Python字符串或datetime对象"
   ]
  },
  {
   "cell_type": "markdown",
   "id": "e3ada7d1",
   "metadata": {},
   "source": [
    "自己理解：datetime类型被作为Series的索引，就变成了DatetimeIndex,DatetimeIndex中的标量值就是pandas中的TimeStamp对象"
   ]
  },
  {
   "cell_type": "markdown",
   "id": "e9087a79",
   "metadata": {},
   "source": [
    "__索引、选择、子集__"
   ]
  },
  {
   "cell_type": "code",
   "execution_count": null,
   "id": "ded76aaf",
   "metadata": {},
   "outputs": [],
   "source": [
    "stamp = ts.index[2]    #基于标签进行索引和选择\n",
    "ts[stamp]"
   ]
  },
  {
   "cell_type": "code",
   "execution_count": null,
   "id": "351e9cd3",
   "metadata": {},
   "outputs": [],
   "source": [
    "longer_ts['2001']    #传递一个年份选择数据切片，这里，字符串'2001'被解释为一个年份，并选择了相应的时间区间。"
   ]
  },
  {
   "cell_type": "code",
   "execution_count": null,
   "id": "631401a3",
   "metadata": {},
   "outputs": [],
   "source": [
    "ts[datetime(2011, 1, 7)]    #使用datetime对象进行切片"
   ]
  },
  {
   "cell_type": "markdown",
   "id": "edd84f6e",
   "metadata": {},
   "source": [
    "__含有重复索引的时间序列__"
   ]
  },
  {
   "cell_type": "code",
   "execution_count": null,
   "id": "f62945ae",
   "metadata": {},
   "outputs": [],
   "source": [
    "dup_ts.index.is_unique    #查看索引是否唯一\n",
    "\n",
    "grouped = dup_ts.groupby(level=0)    #聚合含有非唯一时间戳的数据\n",
    "grouped.mean()"
   ]
  },
  {
   "cell_type": "markdown",
   "id": "73e8d667",
   "metadata": {},
   "source": [
    "##  3.日期范围、频率和移位"
   ]
  },
  {
   "cell_type": "markdown",
   "id": "2b261ffe",
   "metadata": {},
   "source": [
    "pandas的通用时间序列是不规则的，即时间序列的频率不是固定的  \n",
    "可以通过调用resample方法将样本时间序列转换为固定的每日频率数据"
   ]
  },
  {
   "cell_type": "code",
   "execution_count": null,
   "id": "b7c7160f",
   "metadata": {},
   "outputs": [],
   "source": [
    "resample = ts.resample('D')    #'D'被解释为每日频率"
   ]
  },
  {
   "cell_type": "markdown",
   "id": "863dcabc",
   "metadata": {},
   "source": [
    "__生成日期范围__"
   ]
  },
  {
   "cell_type": "code",
   "execution_count": null,
   "id": "65fce737",
   "metadata": {},
   "outputs": [],
   "source": [
    "index = pd.date_range('2012-04-01', '2012-06-01')    #pd.date_range用于根据特定频率生成指定长度的DatetimeIndex\n",
    "#默认情况下，生成的是每日的时间戳。"
   ]
  },
  {
   "cell_type": "code",
   "execution_count": null,
   "id": "a7f8a90a",
   "metadata": {},
   "outputs": [],
   "source": [
    "pd.date_range(start='2012-04-01', periods=20)  #如果只传递一个起始或结尾日期，必须传递一个用于生成范围的数字 "
   ]
  },
  {
   "cell_type": "code",
   "execution_count": null,
   "id": "f7dce886",
   "metadata": {},
   "outputs": [],
   "source": [
    "pd.date_range('2000-01-01', '2000-12-01', freq='BM')    #传递频率参数。  此例中生成结果不包括最前的和最后的时间戳"
   ]
  },
  {
   "cell_type": "code",
   "execution_count": null,
   "id": "e0843f86",
   "metadata": {},
   "outputs": [],
   "source": [
    "pd.date_range('2012-05-02 12:56:31', periods=5, normalize=True)    #生成标准化为0的时间戳"
   ]
  },
  {
   "cell_type": "markdown",
   "id": "e1e9c5c3",
   "metadata": {},
   "source": [
    "__频率和日期偏置__"
   ]
  },
  {
   "cell_type": "code",
   "execution_count": null,
   "id": "3aaa285a",
   "metadata": {},
   "outputs": [],
   "source": [
    "pd.date_range('2000-01-01', periods=10, freq='1h30min')    #对于每个基础频率，都有一个对象可以被用于定义日期偏置"
   ]
  },
  {
   "cell_type": "markdown",
   "id": "9c11a95d",
   "metadata": {},
   "source": [
    "__移位（前向和后向）日期__"
   ]
  },
  {
   "cell_type": "code",
   "execution_count": null,
   "id": "5b8c2394",
   "metadata": {},
   "outputs": [],
   "source": [
    "ts.shift(2)    #Series和DataFrame都有一个shift方法用于进行简单的前向和后向移位，而不改变索引"
   ]
  },
  {
   "cell_type": "code",
   "execution_count": null,
   "id": "89d2d0c2",
   "metadata": {},
   "outputs": [],
   "source": [
    "ts / ts.shift(1) - 1   #最常见的用法，计算时间序列或DataFrame多列时间序列的百分比变化"
   ]
  },
  {
   "cell_type": "code",
   "execution_count": null,
   "id": "49c6fe0c",
   "metadata": {},
   "outputs": [],
   "source": [
    "ts.shift(2, freq='M')#简单移位并不改变索引，一些数据会被丢弃。因此，如果频率是已知的，则可以将频率传递给shift来推移时间戳而不是简单的数据\n",
    "                    #其他的频率也可以传递"
   ]
  },
  {
   "cell_type": "markdown",
   "id": "a5c82fc1",
   "metadata": {},
   "source": [
    "使用偏置进行移位日期： pandas日期偏置也可以使用datetime或Timestamp对象完成"
   ]
  },
  {
   "cell_type": "code",
   "execution_count": null,
   "id": "3f7f4c58",
   "metadata": {},
   "outputs": [],
   "source": [
    "offset = MonthEnd()\n",
    "offset.rollforward(now)    #锚定偏置可以显式地将日期向前或向后“滚动”\n",
    "offset.rollback(now)"
   ]
  },
  {
   "cell_type": "code",
   "execution_count": null,
   "id": "2154f358",
   "metadata": {},
   "outputs": [],
   "source": [
    "ts.groupby(offset.rollforward).mean()    #创造性用法"
   ]
  },
  {
   "cell_type": "markdown",
   "id": "ff643cbc",
   "metadata": {},
   "source": [
    "##  4.时区处理"
   ]
  },
  {
   "cell_type": "markdown",
   "id": "1b423537",
   "metadata": {},
   "source": [
    "目前用不到"
   ]
  },
  {
   "cell_type": "markdown",
   "id": "e4e4f433",
   "metadata": {},
   "source": [
    "##  5.时间区间和区间算术"
   ]
  },
  {
   "cell_type": "markdown",
   "id": "392088a8",
   "metadata": {},
   "source": [
    "时间区间表示的是时间范围，比如一些天、一些月、一些季度或者是一些年。  \n",
    "period类表示的正式这种数据类型"
   ]
  },
  {
   "cell_type": "code",
   "execution_count": null,
   "id": "378d8b5b",
   "metadata": {},
   "outputs": [],
   "source": [
    "p  = pd.Period(2007, freq='A-DEC')    #在这个例子中，Period对象表示的是从2007年1月1日到2007年12月31日（包含在内）的时间段"
   ]
  },
  {
   "cell_type": "code",
   "execution_count": null,
   "id": "c0b6cc29",
   "metadata": {},
   "outputs": [],
   "source": [
    "rng = pd.period_range('2000-01-01', '2000-06-30', freq='M')    #使用period_range函数可以构造规则区间序列，生成PeriodIndex对象"
   ]
  },
  {
   "cell_type": "code",
   "execution_count": null,
   "id": "30707597",
   "metadata": {},
   "outputs": [],
   "source": [
    "pd.Series(np.random.randn(6), index=rng)    #PeriodIndex类存储的是区间的序列，可以作为任意pandas数据结构的轴索引"
   ]
  },
  {
   "cell_type": "code",
   "execution_count": null,
   "id": "8281d1f6",
   "metadata": {},
   "outputs": [],
   "source": [
    "index = pd.PeriodIndex(values, freq='Q-DEC')    #values是个字符串列表，可以直接使用PeriodIndex类"
   ]
  },
  {
   "cell_type": "markdown",
   "id": "791661c8",
   "metadata": {},
   "source": [
    "__区间频率转换__"
   ]
  },
  {
   "cell_type": "code",
   "execution_count": null,
   "id": "c01bc1eb",
   "metadata": {},
   "outputs": [],
   "source": [
    "p = pd.Period('2007', freq='A-DEC')\n",
    "\n",
    "p.asfreq(\"M\", how='start')"
   ]
  },
  {
   "cell_type": "markdown",
   "id": "3b6f3bc0",
   "metadata": {},
   "source": [
    "__季度区间频率__"
   ]
  },
  {
   "cell_type": "code",
   "execution_count": null,
   "id": "6eb4eb97",
   "metadata": {},
   "outputs": [],
   "source": [
    "p = pd.Period('2012Q4', freq='Q-JAN')\n",
    "\n",
    "p.asfreq('D', how='start')"
   ]
  },
  {
   "cell_type": "markdown",
   "id": "8eb9ed82",
   "metadata": {},
   "source": [
    "__将时间戳转换为区间（以及逆转换）__"
   ]
  },
  {
   "cell_type": "markdown",
   "id": "e17bcf1b",
   "metadata": {},
   "source": [
    "通过时间戳索引的Series和DataFrame可以被to_period方法转换为区间"
   ]
  },
  {
   "cell_type": "code",
   "execution_count": null,
   "id": "cd311407",
   "metadata": {},
   "outputs": [],
   "source": [
    "rng = pd.date_range('2000-01-01', periods=3, freq='M')\n",
    "\n",
    "ts = pd.Series(np.random.randn(3), index=rng)\n",
    "\n",
    "pts = ts.to_period()"
   ]
  },
  {
   "cell_type": "markdown",
   "id": "c7e4350d",
   "metadata": {},
   "source": [
    "使用to_timestamp可以将区间再转换为时间戳"
   ]
  },
  {
   "cell_type": "code",
   "execution_count": null,
   "id": "07a6e1a4",
   "metadata": {},
   "outputs": [],
   "source": [
    "pts.to_timestamp(how='end')"
   ]
  },
  {
   "cell_type": "markdown",
   "id": "4f42ad52",
   "metadata": {},
   "source": [
    "__从数组生成PeriodIndex__"
   ]
  },
  {
   "cell_type": "code",
   "execution_count": null,
   "id": "f404e2af",
   "metadata": {},
   "outputs": [],
   "source": [
    "index = pd.PeriodIndex(year=data.year, quarter=data.quarter, freq='Q-DEC')\n",
    "\n",
    "data.index = index"
   ]
  },
  {
   "cell_type": "markdown",
   "id": "22c07d24",
   "metadata": {},
   "source": [
    "##  6.  重新采样与频率转换"
   ]
  },
  {
   "cell_type": "markdown",
   "id": "3c87dced",
   "metadata": {},
   "source": [
    "pandas对象都配有resample方法，该方法是所有频率转换的工具函数。resample拥有类似于groupby的API，调用resample对数据分组，之后再调用聚合函数。  \n",
    "将更高频率的数据聚合到低频率被称为向下采样，而从低频率转换到高频率称为向上采样"
   ]
  },
  {
   "cell_type": "code",
   "execution_count": null,
   "id": "2768e373",
   "metadata": {},
   "outputs": [],
   "source": [
    "rng = pd.date_range('2000-01-01', periods=100, freq=\"D\")\n",
    "\n",
    "ts = pd,Series(np.random.randn(len(rng)), index=rng)"
   ]
  },
  {
   "cell_type": "code",
   "execution_count": null,
   "id": "d2a616c2",
   "metadata": {},
   "outputs": [],
   "source": [
    "ts.resample(\"M\").mean()    #pandas对象都配有resample方法，该方法是所有频率转换的工具函数。\n",
    "                            #resample拥有类似于groupby的API，调用resample对数据分组，之后再调用聚合函数"
   ]
  },
  {
   "cell_type": "code",
   "execution_count": null,
   "id": "9ce061cb",
   "metadata": {},
   "outputs": [],
   "source": [
    "ts.resample(\"M\", kind=\"period\").mean()    #注意区分这个与上一个"
   ]
  },
  {
   "cell_type": "markdown",
   "id": "465c9b30",
   "metadata": {},
   "source": [
    "__向下采样__"
   ]
  },
  {
   "cell_type": "code",
   "execution_count": 2,
   "id": "3c2b8931",
   "metadata": {},
   "outputs": [
    {
     "data": {
      "text/plain": [
       "2000-01-01 00:00:00     0\n",
       "2000-01-01 00:01:00     1\n",
       "2000-01-01 00:02:00     2\n",
       "2000-01-01 00:03:00     3\n",
       "2000-01-01 00:04:00     4\n",
       "2000-01-01 00:05:00     5\n",
       "2000-01-01 00:06:00     6\n",
       "2000-01-01 00:07:00     7\n",
       "2000-01-01 00:08:00     8\n",
       "2000-01-01 00:09:00     9\n",
       "2000-01-01 00:10:00    10\n",
       "2000-01-01 00:11:00    11\n",
       "Freq: T, dtype: int32"
      ]
     },
     "execution_count": 2,
     "metadata": {},
     "output_type": "execute_result"
    }
   ],
   "source": [
    "import numpy as np \n",
    "import pandas as pd\n",
    "rng = pd.date_range('2000-01-01', periods=12, freq='T')\n",
    "ts = pd.Series(np.arange(12), index=rng)\n",
    "\n",
    "ts"
   ]
  },
  {
   "cell_type": "code",
   "execution_count": 10,
   "id": "34a9dae5",
   "metadata": {},
   "outputs": [
    {
     "data": {
      "text/plain": [
       "2000-01-01 00:00:00    21\n",
       "2000-01-01 00:07:00    45\n",
       "Freq: 7T, dtype: int32"
      ]
     },
     "execution_count": 10,
     "metadata": {},
     "output_type": "execute_result"
    }
   ],
   "source": [
    "ts.resample('7min').sum()"
   ]
  },
  {
   "cell_type": "code",
   "execution_count": 11,
   "id": "b6bfde32",
   "metadata": {},
   "outputs": [
    {
     "data": {
      "text/plain": [
       "1999-12-31 23:53:00     0\n",
       "2000-01-01 00:00:00    28\n",
       "2000-01-01 00:07:00    38\n",
       "Freq: 7T, dtype: int32"
      ]
     },
     "execution_count": 11,
     "metadata": {},
     "output_type": "execute_result"
    }
   ],
   "source": [
    "ts.resample('7min', closed='right').sum()"
   ]
  },
  {
   "cell_type": "markdown",
   "id": "9ac69027",
   "metadata": {},
   "source": [
    "上面这个地方一定要注意区分"
   ]
  },
  {
   "cell_type": "code",
   "execution_count": null,
   "id": "6ea6cdfc",
   "metadata": {},
   "outputs": [],
   "source": [
    "ts.resample('5min').ohlc()"
   ]
  },
  {
   "cell_type": "markdown",
   "id": "826712b2",
   "metadata": {},
   "source": [
    "__向上采样与插值__"
   ]
  },
  {
   "cell_type": "code",
   "execution_count": null,
   "id": "317a2740",
   "metadata": {},
   "outputs": [],
   "source": [
    "#frame是每周数据，索引是DatetimeIndex\n",
    "df_daily = frame.resample(\"D\").asfreq()"
   ]
  },
  {
   "cell_type": "code",
   "execution_count": null,
   "id": "2f388cf3",
   "metadata": {},
   "outputs": [],
   "source": [
    "frame.resample(\"D\").ffill()"
   ]
  },
  {
   "cell_type": "markdown",
   "id": "016c2985",
   "metadata": {},
   "source": [
    "__使用区间进行重新采样__"
   ]
  },
  {
   "cell_type": "markdown",
   "id": "246d5cc7",
   "metadata": {},
   "source": [
    "对以区间为索引的数据进行采样与时间戳的情况类似  \n",
    "由于区间涉及时间范围，向上采样和向下采样就更为严格  \n",
    "* 在向下采样中，目标频率必须是原频率的子区间\n",
    "* 在向上采样中，目标频率必须是原频率的父区间"
   ]
  },
  {
   "cell_type": "code",
   "execution_count": null,
   "id": "7602b287",
   "metadata": {},
   "outputs": [],
   "source": [
    "frame = pd.DataFrame(np.random.randn(24, 4), index=pd.PeriodIndex('1-2000', '12-2001', freq=\"M\"), columns=['','','',''])\n",
    "annual_frame = frame.resample('A-DEC').mean()"
   ]
  },
  {
   "cell_type": "markdown",
   "id": "c82dcba5",
   "metadata": {},
   "source": [
    "##  7.  移动窗口函数"
   ]
  },
  {
   "cell_type": "markdown",
   "id": "56caeb14",
   "metadata": {},
   "source": [
    "与其他的统计函数类似，这些函数会自动排除缺失数据  \n",
    "rolling算子，它的行为与resample和groupby类似。rolling可以在Series或DataFrame上通过一个window进行调用"
   ]
  },
  {
   "cell_type": "code",
   "execution_count": null,
   "id": "1ca99599",
   "metadata": {},
   "outputs": [],
   "source": [
    "close_px.AAPL.rolling(250).mean()    #也接收表示固定大小的时间偏执字符串，而不只是一个区间的集合数字。('20D')\n",
    "\n",
    "appl_std250 = close_px.AAPL.rolling(250, min_periods=10).std()    #△"
   ]
  },
  {
   "cell_type": "code",
   "execution_count": null,
   "id": "d62c7eab",
   "metadata": {},
   "outputs": [],
   "source": [
    "#为了计算扩展窗口均值，使用expanding算子，而不是rolling。扩展均值从时间序列的起始位置开始时间窗口，并增加窗口的大小，知道它覆盖整个序列。\n",
    "expanding_mean = appl_std250.expanding().mean()"
   ]
  },
  {
   "cell_type": "code",
   "execution_count": null,
   "id": "589c0843",
   "metadata": {},
   "outputs": [],
   "source": [
    "#在DataFrame上调用一个移动窗口函数会将变换应用到每一列上\n",
    "close_px.rolling(60).mean()"
   ]
  },
  {
   "cell_type": "markdown",
   "id": "737b6583",
   "metadata": {},
   "source": [
    "__指数加权函数__"
   ]
  },
  {
   "cell_type": "markdown",
   "id": "1f3435bc",
   "metadata": {},
   "source": [
    "指定一个常数衰减因子以向更多近期观测值提供更多权重，可以替代使用具有相等加权观察值的静态窗口尺寸的方法。"
   ]
  },
  {
   "cell_type": "code",
   "execution_count": null,
   "id": "254732bc",
   "metadata": {},
   "outputs": [],
   "source": [
    "aapl_px.ewm(span=30).mean()"
   ]
  },
  {
   "cell_type": "markdown",
   "id": "2cdd3739",
   "metadata": {},
   "source": [
    "__二元移动窗口函数__"
   ]
  },
  {
   "cell_type": "markdown",
   "id": "2062a836",
   "metadata": {},
   "source": [
    "金融分析师经常对股票与基准指数的关联性感兴趣"
   ]
  },
  {
   "cell_type": "code",
   "execution_count": null,
   "id": "cc2973f6",
   "metadata": {},
   "outputs": [],
   "source": [
    "corr = returns.rolling(125, min_periods=100).corr(spx_rets)"
   ]
  },
  {
   "cell_type": "markdown",
   "id": "a1a92fb5",
   "metadata": {},
   "source": [
    "__用户自定义的移动窗口函数__"
   ]
  },
  {
   "cell_type": "code",
   "execution_count": null,
   "id": "d121cd0a",
   "metadata": {},
   "outputs": [],
   "source": [
    "returns.AAPL.rolling(250).apply(score_at_2percent)    #唯一的要求是该函数从每个数组中产生一个单值（缩聚）"
   ]
  },
  {
   "cell_type": "markdown",
   "id": "d74c01c0",
   "metadata": {},
   "source": [
    "本章完"
   ]
  }
 ],
 "metadata": {
  "kernelspec": {
   "display_name": "Python 3",
   "language": "python",
   "name": "python3"
  },
  "language_info": {
   "codemirror_mode": {
    "name": "ipython",
    "version": 3
   },
   "file_extension": ".py",
   "mimetype": "text/x-python",
   "name": "python",
   "nbconvert_exporter": "python",
   "pygments_lexer": "ipython3",
   "version": "3.6.13"
  }
 },
 "nbformat": 4,
 "nbformat_minor": 5
}
